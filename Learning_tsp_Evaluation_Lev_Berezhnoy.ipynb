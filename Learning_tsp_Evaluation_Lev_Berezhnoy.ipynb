{
  "nbformat": 4,
  "nbformat_minor": 0,
  "metadata": {
    "colab": {
      "provenance": [],
      "gpuType": "T4"
    },
    "kernelspec": {
      "name": "python3",
      "display_name": "Python 3"
    },
    "language_info": {
      "name": "python"
    },
    "accelerator": "GPU"
  },
  "cells": [
    {
      "cell_type": "markdown",
      "source": [
        "https://github.com/chaitjo/learning-tsp\n",
        "\n",
        "https://github.com/chaitjo/learning-tsp/blob/master/README.md\n"
      ],
      "metadata": {
        "id": "AUu_Tpb7Qn9b"
      }
    },
    {
      "cell_type": "code",
      "source": [
        "import os  # Importamos la librería os para interactuar con el sistema operativo\n",
        "\n",
        "from google.colab import drive  # Importamos drive desde la librería de Google Colab\n",
        "drive.mount('/content/drive')  # Montamos nuestro Google Drive en el sistema de archivos de Colab\n",
        "\n",
        "import sys  # Importamos la librería sys para interactuar con el intérprete de Python\n",
        "sys.path.append('/content/drive/MyDrive/learning-tsp-exp1')  # Añadimos al path del sistema la ruta especificada para poder importar módulos desde allí\n",
        "\n",
        "os.chdir('/content/drive/MyDrive/learning-tsp-exp1')  # Cambiamos el directorio de trabajo actual a la ruta especificada"
      ],
      "metadata": {
        "colab": {
          "base_uri": "https://localhost:8080/"
        },
        "id": "0FNkDtgfLqI6",
        "outputId": "2cbef7c1-2b06-47b9-d746-501661e1ba68"
      },
      "execution_count": null,
      "outputs": [
        {
          "output_type": "stream",
          "name": "stdout",
          "text": [
            "Mounted at /content/drive\n"
          ]
        }
      ]
    },
    {
      "cell_type": "code",
      "source": [
        "!wget -nc https://repo.anaconda.com/miniconda/Miniconda3-latest-Linux-x86_64.sh  # Descarga Miniconda si no existe en el directorio actual\n",
        "!chmod +x Miniconda3-latest-Linux-x86_64.sh  # Hace el script de instalación ejecutable\n",
        "!bash ./Miniconda3-latest-Linux-x86_64.sh -b -f -p /usr/local  # Ejecuta el instalador de Miniconda en modo batch, sobrescribe si es necesario y especifica el directorio de instalación\n"
      ],
      "metadata": {
        "id": "kovFmgpIbWRJ"
      },
      "execution_count": null,
      "outputs": []
    },
    {
      "cell_type": "code",
      "source": [
        "import sys  # Importación de la biblioteca del sistema\n",
        "sys.path.append('/usr/local/lib/python3.10/site-packages/')  # Añadir al PATH de Python la ubicación de los paquetes de Miniconda"
      ],
      "metadata": {
        "id": "Uxt0KAw4bnnA"
      },
      "execution_count": null,
      "outputs": []
    },
    {
      "cell_type": "code",
      "source": [
        "# Configurar un nuevo entorno conda y activarlo.\n",
        "import subprocess\n",
        "\n",
        "env_name = \"tsp\"  # Nombre del entorno\n",
        "env_list = subprocess.run(['conda', 'env', 'list'], stdout=subprocess.PIPE).stdout.decode('utf-8')  # Lista los entornos existentes\n",
        "\n",
        "if env_name in env_list:\n",
        "    print(f\"El entorno '{env_name}' ya existe.\")  # Si el entorno existe, imprime un mensaje\n",
        "else:\n",
        "    print(f\"Creando nuevo entorno '{env_name}'.\")  # Si el entorno no existe, imprime un mensaje de creación\n",
        "    !conda create -n $env_name python=3.6.7 -y  # Crea un nuevo entorno conda con Python 3.6.7\n"
      ],
      "metadata": {
        "id": "RAKTdVIZZWce"
      },
      "execution_count": null,
      "outputs": []
    },
    {
      "cell_type": "code",
      "source": [
        "!conda run -n tsp python --version  # Ejecuta el comando para verificar la versión de Python en el entorno 'tsp'\n"
      ],
      "metadata": {
        "colab": {
          "base_uri": "https://localhost:8080/"
        },
        "id": "kntUF4_vgEyP",
        "outputId": "72e9213b-4d3e-46af-a66f-36eabdc67ed0"
      },
      "execution_count": null,
      "outputs": [
        {
          "output_type": "stream",
          "name": "stdout",
          "text": [
            "Python 3.6.7 :: Anaconda, Inc.\n",
            "\n"
          ]
        }
      ]
    },
    {
      "cell_type": "code",
      "source": [
        "!conda install --name tsp pytorch=1.2.0 cudatoolkit=10.0 -c pytorch -y  # Instala PyTorch versión 1.2.0 y CUDA Toolkit 10.0 en el entorno 'tsp', confirmando automáticamente la instalación"
      ],
      "metadata": {
        "id": "8EZ4d218PyT4"
      },
      "execution_count": null,
      "outputs": []
    },
    {
      "cell_type": "code",
      "source": [
        "!conda install --name tsp numpy  # Instala NumPy en el entorno 'tsp'\n",
        "!conda install --name tsp scipy -y  # Instala SciPy en el entorno 'tsp', confirmando automáticamente la instalación\n",
        "!conda install --name tsp cython -y  # Instala Cython en el entorno 'tsp', confirmando automáticamente la instalación\n",
        "!conda install --name tsp tqdm -y  # Instala TQDM en el entorno 'tsp', confirmando automáticamente la instalación\n",
        "!conda install --name tsp scikit-learn -y  # Instala Scikit-learn en el entorno 'tsp', confirmando automáticamente la instalación\n",
        "!conda install --name tsp matplotlib -y  # Instala Matplotlib en el entorno 'tsp', confirmando automáticamente la instalación\n",
        "!conda install --name tsp seaborn -y  # Instala Seaborn en el entorno 'tsp', confirmando automáticamente la instalación"
      ],
      "metadata": {
        "id": "6ftDAezVeol4"
      },
      "execution_count": null,
      "outputs": []
    },
    {
      "cell_type": "code",
      "source": [
        "!conda install --name tsp tensorboard=1.11.0 -y  # Instala TensorBoard versión 1.11.0 en el entorno 'tsp', confirmando automáticamente la instalación"
      ],
      "metadata": {
        "id": "XISUvZhgoFdv"
      },
      "execution_count": null,
      "outputs": []
    },
    {
      "cell_type": "code",
      "source": [
        "!conda install --name tsp pandas -y  # Instala pandas en el entorno 'tsp', confirmando automáticamente la instalación\n",
        "!conda run -n tsp pip install config  # Utiliza pip dentro del entorno 'tsp' para instalar el paquete config\n",
        "!conda run -n tsp pip install tensorboard_logger  # Utiliza pip dentro del entorno 'tsp' para instalar el paquete tensorboard_logger"
      ],
      "metadata": {
        "id": "7Pe_FkSQRlY_"
      },
      "execution_count": null,
      "outputs": []
    },
    {
      "cell_type": "code",
      "execution_count": null,
      "metadata": {
        "id": "6Xr38lPpLhuh",
        "colab": {
          "base_uri": "https://localhost:8080/"
        },
        "outputId": "8e9c6f97-9ae2-4b7a-f2ad-958b0abe37bf"
      },
      "outputs": [
        {
          "output_type": "stream",
          "name": "stdout",
          "text": [
            "Cloning into 'learning-tsp'...\n",
            "remote: Enumerating objects: 121, done.\u001b[K\n",
            "remote: Counting objects: 100% (26/26), done.\u001b[K\n",
            "remote: Compressing objects: 100% (26/26), done.\u001b[K\n",
            "remote: Total 121 (delta 12), reused 1 (delta 0), pack-reused 95\u001b[K\n",
            "Receiving objects: 100% (121/121), 54.35 MiB | 12.87 MiB/s, done.\n",
            "Resolving deltas: 100% (27/27), done.\n",
            "Updating files: 100% (64/64), done.\n"
          ]
        }
      ],
      "source": [
        "# Clonar el repositorio.\n",
        "!git clone https://github.com/chaitjo/learning-tsp.git  # Clona el repositorio de GitHub\n",
        "!cd learning-tsp  # Cambia el directorio actual al directorio clonado 'learning-tsp'"
      ]
    },
    {
      "cell_type": "code",
      "source": [
        "# Descargar conjuntos de datos y desempaquetar en el directorio /data/tsp.\n",
        "!pip install gdown  # Instala la herramienta gdown para descargar archivos de Google Drive\n",
        "!gdown https://drive.google.com/uc?id=152mpCze-v4d0m9kdsCeVkLdHFkjeDeF5  # Descarga el archivo especificado desde Google Drive"
      ],
      "metadata": {
        "id": "oz9G6Fi1OE-b"
      },
      "execution_count": null,
      "outputs": []
    },
    {
      "cell_type": "code",
      "source": [
        "!tar -xvzf /content/drive/MyDrive/learning-tsp-exp1/tsp-data.tar.gz --exclude='*train*' -C /content/drive/MyDrive/learning-tsp-exp1/learning-tsp/  # Descomprime el archivo tsp-data.tar.gz excluyendo los archivos de entrenamiento y los coloca en la ruta especificada"
      ],
      "metadata": {
        "id": "NMBMwCRDMBld",
        "colab": {
          "base_uri": "https://localhost:8080/"
        },
        "outputId": "effff3de-6fa7-4f44-df5b-b49fc087dfef"
      },
      "execution_count": null,
      "outputs": [
        {
          "output_type": "stream",
          "name": "stdout",
          "text": [
            "data/tsp/\n",
            "data/tsp/tsp50_test_concorde.txt\n",
            "data/tsp/tsp20-50_concorde.txt\n",
            "data/tsp/tsp20_test_concorde.txt\n",
            "data/tsp/tsp100_test_concorde.txt\n",
            "data/tsp/tsp200_test_concorde.txt\n",
            "data/tsp/.ipynb_checkpoints/\n",
            "data/tsp/.ipynb_checkpoints/tsp20-50_concorde-checkpoint.txt\n",
            "data/tsp/tsp10-200_concorde.txt\n"
          ]
        }
      ]
    },
    {
      "cell_type": "code",
      "source": [
        "# Evaluación\n",
        "# rl-ar-var-20pnn-gnn-max_20200313T002243 bs --batch_size 128 --widths 1\n",
        "!CUDA_VISIBLE_DEVICES=config.gpu_id  # Establece la variable de entorno para especificar qué GPU usar, requiere asignación del ID de GPU antes de ejecutar\n",
        "\n",
        "# Ejecuta el script eval.py para evaluar el modelo sobre el conjunto de datos especificado con la estrategia de decodificación beam search, un tamaño de lote de 128 y una anchura de 1\n",
        "!conda run -n tsp python /content/drive/MyDrive/learning-tsp-exp1/learning-tsp/eval.py /content/drive/MyDrive/learning-tsp-exp1/learning-tsp/data/tsp/tsp20-50_concorde.txt --model /content/drive/MyDrive/learning-tsp-exp1/learning-tsp/pretrained/tsp_20-50/rl-ar-var-20pnn-gnn-max_20200313T002243/  --decode_strategies bs --batch_size 128 --widths 1"
      ],
      "metadata": {
        "id": "hZLboiaoQvWV",
        "colab": {
          "base_uri": "https://localhost:8080/"
        },
        "outputId": "dad09695-b0a5-4a47-da6e-125b6f4cca1a"
      },
      "execution_count": null,
      "outputs": [
        {
          "output_type": "stream",
          "name": "stdout",
          "text": [
            "\n",
            "Loading model from /content/drive/MyDrive/learning-tsp-exp1/learning-tsp/pretrained/tsp_20-50/rl-ar-var-20pnn-gnn-max_20200313T002243/epoch-99.pt\n",
            "\n",
            "Loading from /content/drive/MyDrive/learning-tsp-exp1/learning-tsp/data/tsp/tsp20-50_concorde.txt...\n",
            "Validation groundtruth cost: 4.857 +- 0.638\n",
            "Validation average cost: 4.991 +- 0.701\n",
            "Validation optimality gap: 2.656% +- 2.317\n",
            "Average duration: 0.319s +- 0.338\n",
            "Total duration: 31.884605169296265s\n",
            "\n",
            "/usr/local/envs/tsp/lib/python3.6/site-packages/torch/serialization.py:453: SourceChangeWarning: source code of class 'nets.attention_model.AttentionModel' has changed. you can retrieve the original source code by accessing the object's source attribute or set `torch.nn.Module.dump_patches = True` and use the patch tool to revert the changes.\n",
            "  warnings.warn(msg, SourceChangeWarning)\n",
            "/usr/local/envs/tsp/lib/python3.6/site-packages/torch/serialization.py:453: SourceChangeWarning: source code of class 'nets.encoders.gnn_encoder.GNNLayer' has changed. you can retrieve the original source code by accessing the object's source attribute or set `torch.nn.Module.dump_patches = True` and use the patch tool to revert the changes.\n",
            "  warnings.warn(msg, SourceChangeWarning)\n",
            "\r  0%|          | 0/12800 [00:00<?, ?it/s]\r  6%|6         | 782/12800 [00:00<00:01, 7818.44it/s]\r 14%|#3        | 1778/12800 [00:00<00:01, 9074.62it/s]\r 23%|##3       | 2962/12800 [00:00<00:00, 10335.37it/s]\r 31%|###1      | 3996/12800 [00:00<00:00, 9124.07it/s] \r 40%|###9      | 5098/12800 [00:00<00:00, 9752.18it/s]\r 48%|####7     | 6091/12800 [00:00<00:00, 8335.27it/s]\r 54%|#####4    | 6964/12800 [00:00<00:00, 7502.15it/s]\r 62%|######1   | 7898/12800 [00:00<00:00, 6811.40it/s]\r 69%|######8   | 8776/12800 [00:01<00:00, 7288.61it/s]\r 77%|#######7  | 9898/12800 [00:01<00:00, 8291.57it/s]\r 84%|########4 | 10773/12800 [00:01<00:00, 7087.65it/s]\r 91%|######### | 11585/12800 [00:01<00:00, 7338.52it/s]\r 97%|#########6| 12364/12800 [00:01<00:00, 6981.02it/s]\r100%|##########| 12800/12800 [00:01<00:00, 7804.23it/s]\n",
            "\r  0%|          | 0/100 [00:00<?, ?it/s]\r  1%|1         | 1/100 [00:03<05:44,  3.48s/it]\r  2%|2         | 2/100 [00:03<02:46,  1.70s/it]\r  3%|3         | 3/100 [00:04<01:35,  1.02it/s]\r  4%|4         | 4/100 [00:04<01:03,  1.52it/s]\r  5%|5         | 5/100 [00:04<00:48,  1.97it/s]\r  6%|6         | 6/100 [00:04<00:36,  2.57it/s]\r  7%|7         | 7/100 [00:05<00:37,  2.49it/s]\r  8%|8         | 8/100 [00:05<00:38,  2.40it/s]\r  9%|9         | 9/100 [00:05<00:31,  2.87it/s]\r 10%|#         | 10/100 [00:05<00:28,  3.16it/s]\r 11%|#1        | 11/100 [00:06<00:23,  3.83it/s]\r 12%|#2        | 12/100 [00:06<00:21,  4.13it/s]\r 13%|#3        | 13/100 [00:06<00:26,  3.32it/s]\r 14%|#4        | 14/100 [00:07<00:27,  3.15it/s]\r 15%|#5        | 15/100 [00:07<00:25,  3.29it/s]\r 16%|#6        | 16/100 [00:07<00:24,  3.48it/s]\r 17%|#7        | 17/100 [00:07<00:19,  4.23it/s]\r 18%|#8        | 18/100 [00:07<00:18,  4.41it/s]\r 19%|#9        | 19/100 [00:08<00:18,  4.27it/s]\r 20%|##        | 20/100 [00:08<00:22,  3.56it/s]\r 21%|##1       | 21/100 [00:08<00:19,  3.98it/s]\r 22%|##2       | 22/100 [00:09<00:26,  2.89it/s]\r 23%|##3       | 23/100 [00:09<00:23,  3.29it/s]\r 24%|##4       | 24/100 [00:10<00:28,  2.65it/s]\r 25%|##5       | 25/100 [00:10<00:30,  2.46it/s]\r 26%|##6       | 26/100 [00:10<00:24,  2.99it/s]\r 27%|##7       | 27/100 [00:11<00:26,  2.77it/s]\r 28%|##8       | 28/100 [00:11<00:27,  2.65it/s]\r 29%|##9       | 29/100 [00:11<00:22,  3.21it/s]\r 30%|###       | 30/100 [00:12<00:24,  2.91it/s]\r 31%|###1      | 31/100 [00:12<00:19,  3.53it/s]\r 32%|###2      | 32/100 [00:12<00:22,  3.01it/s]\r 33%|###3      | 33/100 [00:12<00:19,  3.50it/s]\r 34%|###4      | 34/100 [00:13<00:20,  3.15it/s]\r 35%|###5      | 35/100 [00:13<00:23,  2.78it/s]\r 36%|###6      | 36/100 [00:13<00:19,  3.23it/s]\r 37%|###7      | 37/100 [00:14<00:19,  3.25it/s]\r 38%|###8      | 38/100 [00:14<00:17,  3.47it/s]\r 39%|###9      | 39/100 [00:14<00:17,  3.56it/s]\r 40%|####      | 40/100 [00:15<00:18,  3.21it/s]\r 41%|####1     | 41/100 [00:15<00:19,  3.07it/s]\r 42%|####2     | 42/100 [00:15<00:20,  2.78it/s]\r 43%|####3     | 43/100 [00:16<00:22,  2.50it/s]\r 44%|####4     | 44/100 [00:16<00:22,  2.48it/s]\r 45%|####5     | 45/100 [00:17<00:21,  2.55it/s]\r 46%|####6     | 46/100 [00:17<00:17,  3.07it/s]\r 47%|####6     | 47/100 [00:17<00:20,  2.54it/s]\r 48%|####8     | 48/100 [00:18<00:21,  2.43it/s]\r 49%|####9     | 49/100 [00:18<00:18,  2.75it/s]\r 50%|#####     | 50/100 [00:19<00:19,  2.55it/s]\r 51%|#####1    | 51/100 [00:19<00:20,  2.34it/s]\r 52%|#####2    | 52/100 [00:20<00:22,  2.12it/s]\r 53%|#####3    | 53/100 [00:20<00:21,  2.16it/s]\r 54%|#####4    | 54/100 [00:21<00:21,  2.17it/s]\r 55%|#####5    | 55/100 [00:21<00:17,  2.54it/s]\r 56%|#####6    | 56/100 [00:21<00:15,  2.93it/s]\r 57%|#####6    | 57/100 [00:21<00:16,  2.68it/s]\r 58%|#####8    | 58/100 [00:22<00:16,  2.59it/s]\r 59%|#####8    | 59/100 [00:22<00:15,  2.65it/s]\r 60%|######    | 60/100 [00:23<00:15,  2.57it/s]\r 61%|######1   | 61/100 [00:23<00:13,  2.97it/s]\r 62%|######2   | 62/100 [00:23<00:13,  2.85it/s]\r 63%|######3   | 63/100 [00:23<00:11,  3.34it/s]\r 64%|######4   | 64/100 [00:24<00:12,  2.87it/s]\r 65%|######5   | 65/100 [00:24<00:13,  2.58it/s]\r 66%|######6   | 66/100 [00:25<00:12,  2.66it/s]\r 67%|######7   | 67/100 [00:25<00:12,  2.60it/s]\r 68%|######8   | 68/100 [00:25<00:10,  2.94it/s]\r 69%|######9   | 69/100 [00:26<00:11,  2.75it/s]\r 70%|#######   | 70/100 [00:26<00:09,  3.01it/s]\r 71%|#######1  | 71/100 [00:26<00:10,  2.79it/s]\r 72%|#######2  | 72/100 [00:27<00:08,  3.48it/s]\r 73%|#######3  | 73/100 [00:27<00:06,  4.24it/s]\r 74%|#######4  | 74/100 [00:27<00:08,  3.24it/s]\r 75%|#######5  | 75/100 [00:27<00:06,  3.82it/s]\r 76%|#######6  | 76/100 [00:27<00:05,  4.43it/s]\r 77%|#######7  | 77/100 [00:28<00:04,  4.73it/s]\r 78%|#######8  | 78/100 [00:28<00:04,  4.42it/s]\r 79%|#######9  | 79/100 [00:28<00:04,  4.97it/s]\r 80%|########  | 80/100 [00:28<00:04,  4.03it/s]\r 81%|########1 | 81/100 [00:29<00:04,  4.65it/s]\r 82%|########2 | 82/100 [00:29<00:04,  3.80it/s]\r 83%|########2 | 83/100 [00:29<00:03,  4.30it/s]\r 84%|########4 | 84/100 [00:29<00:03,  4.19it/s]\r 85%|########5 | 85/100 [00:29<00:03,  4.72it/s]\r 86%|########6 | 86/100 [00:30<00:02,  5.40it/s]\r 87%|########7 | 87/100 [00:30<00:02,  4.90it/s]\r 88%|########8 | 88/100 [00:30<00:02,  5.09it/s]\r 89%|########9 | 89/100 [00:30<00:02,  4.57it/s]\r 90%|######### | 90/100 [00:31<00:02,  3.88it/s]\r 91%|#########1| 91/100 [00:31<00:02,  3.75it/s]\r 92%|#########2| 92/100 [00:31<00:02,  3.83it/s]\r 93%|#########3| 93/100 [00:31<00:01,  4.33it/s]\r 94%|#########3| 94/100 [00:32<00:01,  3.30it/s]\r 95%|#########5| 95/100 [00:32<00:01,  2.81it/s]\r 96%|#########6| 96/100 [00:33<00:01,  2.42it/s]\r 97%|#########7| 97/100 [00:33<00:01,  2.54it/s]\r 98%|#########8| 98/100 [00:34<00:00,  2.60it/s]\r 99%|#########9| 99/100 [00:34<00:00,  2.73it/s]\r100%|##########| 100/100 [00:34<00:00,  2.51it/s]\r100%|##########| 100/100 [00:34<00:00,  2.87it/s]\n",
            "/content/drive/MyDrive/learning-tsp-exp1/learning-tsp/eval.py:35: VisibleDeprecationWarning: Creating an ndarray from ragged nested sequences (which is a list-or-tuple of lists-or-tuples-or ndarrays with different lengths or shapes) is deprecated. If you meant to do this, you must specify 'dtype=object' when creating the ndarray\n",
            "  costs, tours, durations = np.array(costs), np.array(tours), np.array(durations)\n",
            "\n"
          ]
        }
      ]
    },
    {
      "cell_type": "code",
      "source": [
        "# Evaluation\n",
        "# rl-ar-var-20pnn-gnn-max_20200313T002243 bs --batch_size 128 --widths 128\n",
        "!CUDA_VISIBLE_DEVICES=config.gpu_id\n",
        "!conda run -n tsp python /content/drive/MyDrive/learning-tsp-exp1/learning-tsp/eval.py /content/drive/MyDrive/learning-tsp-exp1/learning-tsp/data/tsp/tsp20-50_concorde.txt --model /content/drive/MyDrive/learning-tsp-exp1/learning-tsp/pretrained/tsp_20-50/rl-ar-var-20pnn-gnn-max_20200313T002243/  --decode_strategies bs --batch_size 128 --widths 128"
      ],
      "metadata": {
        "colab": {
          "base_uri": "https://localhost:8080/"
        },
        "id": "Y2edyga5pkGB",
        "outputId": "e366d381-9da4-4351-c6f1-f4c276304461"
      },
      "execution_count": null,
      "outputs": [
        {
          "output_type": "stream",
          "name": "stdout",
          "text": [
            "\n",
            "Loading model from /content/drive/MyDrive/learning-tsp-exp1/learning-tsp/pretrained/tsp_20-50/rl-ar-var-20pnn-gnn-max_20200313T002243/epoch-99.pt\n",
            "\n",
            "Loading from /content/drive/MyDrive/learning-tsp-exp1/learning-tsp/data/tsp/tsp20-50_concorde.txt...\n",
            "Validation groundtruth cost: 4.857 +- 0.638\n",
            "Validation average cost: 4.902 +- 0.670\n",
            "Validation optimality gap: 0.866% +- 1.228\n",
            "Average duration: 1.662s +- 0.830\n",
            "Total duration: 166.16122460365295s\n",
            "\n",
            "/usr/local/envs/tsp/lib/python3.6/site-packages/torch/serialization.py:453: SourceChangeWarning: source code of class 'nets.attention_model.AttentionModel' has changed. you can retrieve the original source code by accessing the object's source attribute or set `torch.nn.Module.dump_patches = True` and use the patch tool to revert the changes.\n",
            "  warnings.warn(msg, SourceChangeWarning)\n",
            "/usr/local/envs/tsp/lib/python3.6/site-packages/torch/serialization.py:453: SourceChangeWarning: source code of class 'nets.encoders.gnn_encoder.GNNLayer' has changed. you can retrieve the original source code by accessing the object's source attribute or set `torch.nn.Module.dump_patches = True` and use the patch tool to revert the changes.\n",
            "  warnings.warn(msg, SourceChangeWarning)\n",
            "\r  0%|          | 0/12800 [00:00<?, ?it/s]\r 12%|#1        | 1508/12800 [00:00<00:00, 15076.99it/s]\r 24%|##3       | 3032/12800 [00:00<00:00, 14349.76it/s]\r 40%|###9      | 5082/12800 [00:00<00:00, 17071.03it/s]\r 53%|#####3    | 6799/12800 [00:00<00:00, 15157.06it/s]\r 65%|######5   | 8347/12800 [00:00<00:00, 13509.80it/s]\r 81%|########1 | 10403/12800 [00:00<00:00, 15579.04it/s]\r 94%|#########3| 12020/12800 [00:00<00:00, 14448.36it/s]\r100%|##########| 12800/12800 [00:00<00:00, 14862.84it/s]\n",
            "\r  0%|          | 0/100 [00:00<?, ?it/s]\r  1%|1         | 1/100 [00:02<04:24,  2.67s/it]\r  2%|2         | 2/100 [00:05<04:25,  2.71s/it]\r  3%|3         | 3/100 [00:05<02:46,  1.71s/it]\r  4%|4         | 4/100 [00:06<02:07,  1.33s/it]\r  5%|5         | 5/100 [00:07<02:02,  1.29s/it]\r  6%|6         | 6/100 [00:08<01:46,  1.13s/it]\r  7%|7         | 7/100 [00:11<02:29,  1.61s/it]\r  8%|8         | 8/100 [00:14<03:03,  2.00s/it]\r  9%|9         | 9/100 [00:15<02:36,  1.72s/it]\r 10%|#         | 10/100 [00:16<02:25,  1.61s/it]\r 11%|#1        | 11/100 [00:17<01:55,  1.30s/it]\r 12%|#2        | 12/100 [00:18<01:49,  1.24s/it]\r 13%|#3        | 13/100 [00:21<02:27,  1.70s/it]\r 14%|#4        | 14/100 [00:23<02:35,  1.80s/it]\r 15%|#5        | 15/100 [00:24<02:25,  1.71s/it]\r 16%|#6        | 16/100 [00:25<02:14,  1.60s/it]\r 17%|#7        | 17/100 [00:26<01:45,  1.27s/it]\r 18%|#8        | 18/100 [00:27<01:39,  1.21s/it]\r 19%|#9        | 19/100 [00:28<01:38,  1.22s/it]\r 20%|##        | 20/100 [00:30<01:51,  1.39s/it]\r 21%|##1       | 21/100 [00:31<01:33,  1.18s/it]\r 22%|##2       | 22/100 [00:34<02:18,  1.78s/it]\r 23%|##3       | 23/100 [00:35<01:56,  1.52s/it]\r 24%|##4       | 24/100 [00:38<02:33,  2.02s/it]\r 25%|##5       | 25/100 [00:41<02:46,  2.22s/it]\r 26%|##6       | 26/100 [00:41<02:09,  1.75s/it]\r 27%|##7       | 27/100 [00:44<02:18,  1.90s/it]\r 28%|##8       | 28/100 [00:46<02:24,  2.01s/it]\r 29%|##9       | 29/100 [00:46<01:51,  1.57s/it]\r 30%|###       | 30/100 [00:49<02:03,  1.77s/it]\r 31%|###1      | 31/100 [00:49<01:35,  1.39s/it]\r 32%|###2      | 32/100 [00:52<01:53,  1.67s/it]\r 33%|###3      | 33/100 [00:52<01:30,  1.35s/it]\r 34%|###4      | 34/100 [00:54<01:40,  1.52s/it]\r 35%|###5      | 35/100 [00:56<01:54,  1.77s/it]\r 36%|###6      | 36/100 [00:57<01:33,  1.46s/it]\r 37%|###7      | 37/100 [00:58<01:29,  1.41s/it]\r 38%|###8      | 38/100 [00:59<01:19,  1.29s/it]\r 39%|###9      | 39/100 [01:01<01:17,  1.27s/it]\r 40%|####      | 40/100 [01:02<01:26,  1.44s/it]\r 41%|####1     | 41/100 [01:04<01:28,  1.51s/it]\r 42%|####2     | 42/100 [01:06<01:40,  1.73s/it]\r 43%|####3     | 43/100 [01:09<01:53,  1.98s/it]\r 44%|####4     | 44/100 [01:11<01:51,  1.99s/it]\r 45%|####5     | 45/100 [01:13<01:44,  1.90s/it]\r 46%|####6     | 46/100 [01:13<01:20,  1.50s/it]\r 47%|####6     | 47/100 [01:16<01:43,  1.95s/it]\r 48%|####8     | 48/100 [01:18<01:45,  2.02s/it]\r 49%|####9     | 49/100 [01:19<01:28,  1.73s/it]\r 50%|#####     | 50/100 [01:22<01:35,  1.91s/it]\r 51%|#####1    | 51/100 [01:24<01:44,  2.14s/it]\r 52%|#####2    | 52/100 [01:28<01:57,  2.45s/it]\r 53%|#####3    | 53/100 [01:30<01:52,  2.38s/it]\r 54%|#####4    | 54/100 [01:32<01:49,  2.37s/it]\r 55%|#####5    | 55/100 [01:33<01:27,  1.94s/it]\r 56%|#####6    | 56/100 [01:34<01:10,  1.60s/it]\r 57%|#####6    | 57/100 [01:36<01:16,  1.77s/it]\r 58%|#####8    | 58/100 [01:38<01:15,  1.80s/it]\r 59%|#####8    | 59/100 [01:39<01:07,  1.64s/it]\r 60%|######    | 60/100 [01:42<01:15,  1.89s/it]\r 61%|######1   | 61/100 [01:43<01:02,  1.61s/it]\r 62%|######2   | 62/100 [01:45<01:09,  1.82s/it]\r 63%|######3   | 63/100 [01:46<00:57,  1.56s/it]\r 64%|######4   | 64/100 [01:49<01:12,  2.02s/it]\r 65%|######5   | 65/100 [01:52<01:22,  2.36s/it]\r 66%|######6   | 66/100 [01:54<01:18,  2.29s/it]\r 67%|######7   | 67/100 [01:57<01:18,  2.36s/it]\r 68%|######8   | 68/100 [01:58<01:04,  2.03s/it]\r 69%|######9   | 69/100 [02:01<01:08,  2.20s/it]\r 70%|#######   | 70/100 [02:02<00:59,  1.98s/it]\r 71%|#######1  | 71/100 [02:05<01:02,  2.16s/it]\r 72%|#######2  | 72/100 [02:05<00:46,  1.68s/it]\r 73%|#######3  | 73/100 [02:06<00:35,  1.33s/it]\r 74%|#######4  | 74/100 [02:09<00:48,  1.87s/it]\r 75%|#######5  | 75/100 [02:10<00:38,  1.53s/it]\r 76%|#######6  | 76/100 [02:10<00:30,  1.28s/it]\r 77%|#######7  | 77/100 [02:11<00:26,  1.17s/it]\r 78%|#######8  | 78/100 [02:13<00:27,  1.26s/it]\r 79%|#######9  | 79/100 [02:14<00:23,  1.11s/it]\r 80%|########  | 80/100 [02:16<00:28,  1.42s/it]\r 81%|########1 | 81/100 [02:16<00:22,  1.20s/it]\r 82%|########2 | 82/100 [02:19<00:27,  1.54s/it]\r 83%|########2 | 83/100 [02:20<00:22,  1.34s/it]\r 84%|########4 | 84/100 [02:21<00:21,  1.35s/it]\r 85%|########5 | 85/100 [02:22<00:17,  1.16s/it]\r 86%|########6 | 86/100 [02:22<00:13,  1.02it/s]\r 87%|########7 | 87/100 [02:24<00:14,  1.09s/it]\r 88%|########8 | 88/100 [02:25<00:12,  1.05s/it]\r 89%|########9 | 89/100 [02:26<00:13,  1.19s/it]\r 90%|######### | 90/100 [02:28<00:14,  1.43s/it]\r 91%|#########1| 91/100 [02:30<00:13,  1.48s/it]\r 92%|#########2| 92/100 [02:31<00:11,  1.45s/it]\r 93%|#########3| 93/100 [02:32<00:08,  1.25s/it]\r 94%|#########3| 94/100 [02:35<00:10,  1.80s/it]\r 95%|#########5| 95/100 [02:38<00:10,  2.19s/it]\r 96%|#########6| 96/100 [02:41<00:09,  2.50s/it]\r 97%|#########7| 97/100 [02:43<00:06,  2.27s/it]\r 98%|#########8| 98/100 [02:45<00:04,  2.11s/it]\r 99%|#########9| 99/100 [02:46<00:01,  1.94s/it]\r100%|##########| 100/100 [02:49<00:00,  2.11s/it]\r100%|##########| 100/100 [02:49<00:00,  1.69s/it]\n",
            "/content/drive/MyDrive/learning-tsp-exp1/learning-tsp/eval.py:35: VisibleDeprecationWarning: Creating an ndarray from ragged nested sequences (which is a list-or-tuple of lists-or-tuples-or ndarrays with different lengths or shapes) is deprecated. If you meant to do this, you must specify 'dtype=object' when creating the ndarray\n",
            "  costs, tours, durations = np.array(costs), np.array(tours), np.array(durations)\n",
            "\n"
          ]
        }
      ]
    },
    {
      "cell_type": "code",
      "source": [
        "# Evaluation\n",
        "# rl-ar-var-20pnn-gnn-max-critic_20200313T002323 bs --batch_size 128 --widths 1\n",
        "!CUDA_VISIBLE_DEVICES=config.gpu_id\n",
        "!conda run -n tsp python /content/drive/MyDrive/learning-tsp-exp1/learning-tsp/eval.py /content/drive/MyDrive/learning-tsp-exp1/learning-tsp/data/tsp/tsp20-50_concorde.txt --model /content/drive/MyDrive/learning-tsp-exp1/learning-tsp/pretrained/tsp_20-50/rl-ar-var-20pnn-gnn-max-critic_20200313T002323/  --decode_strategies bs --batch_size 128 --widths 1"
      ],
      "metadata": {
        "colab": {
          "base_uri": "https://localhost:8080/"
        },
        "id": "mRWtwXpqpGNP",
        "outputId": "b49a8fe4-83c7-4883-f261-d94e887c5443"
      },
      "execution_count": null,
      "outputs": [
        {
          "output_type": "stream",
          "name": "stdout",
          "text": [
            "\n",
            "Loading model from /content/drive/MyDrive/learning-tsp-exp1/learning-tsp/pretrained/tsp_20-50/rl-ar-var-20pnn-gnn-max-critic_20200313T002323/epoch-99.pt\n",
            "\n",
            "Loading from /content/drive/MyDrive/learning-tsp-exp1/learning-tsp/data/tsp/tsp20-50_concorde.txt...\n",
            "Validation groundtruth cost: 4.857 +- 0.638\n",
            "Validation average cost: 5.059 +- 0.729\n",
            "Validation optimality gap: 4.014% +- 2.919\n",
            "Average duration: 0.299s +- 0.185\n",
            "Total duration: 29.916048288345337s\n",
            "\n",
            "\r  0%|          | 0/12800 [00:00<?, ?it/s]\r  6%|6         | 808/12800 [00:00<00:01, 8073.16it/s]\r 14%|#4        | 1803/12800 [00:00<00:01, 9174.13it/s]\r 23%|##3       | 2949/12800 [00:00<00:00, 10212.48it/s]\r 31%|###1      | 3971/12800 [00:00<00:00, 8891.48it/s] \r 40%|###9      | 5110/12800 [00:00<00:00, 9710.53it/s]\r 48%|####7     | 6103/12800 [00:00<00:00, 8176.64it/s]\r 55%|#####5    | 7081/12800 [00:00<00:00, 8618.54it/s]\r 63%|######3   | 8078/12800 [00:00<00:00, 7718.17it/s]\r 70%|#######   | 8998/12800 [00:01<00:00, 8099.08it/s]\r 80%|########  | 10240/12800 [00:01<00:00, 9258.86it/s]\r 88%|########7 | 11209/12800 [00:01<00:00, 8156.65it/s]\r 96%|#########5| 12230/12800 [00:01<00:00, 8680.21it/s]\r100%|##########| 12800/12800 [00:01<00:00, 8699.71it/s]\n",
            "\r  0%|          | 0/100 [00:00<?, ?it/s]\r  1%|1         | 1/100 [00:01<02:46,  1.68s/it]\r  2%|2         | 2/100 [00:02<01:33,  1.04it/s]\r  3%|3         | 3/100 [00:02<00:55,  1.73it/s]\r  4%|4         | 4/100 [00:02<00:39,  2.44it/s]\r  5%|5         | 5/100 [00:02<00:32,  2.88it/s]\r  6%|6         | 6/100 [00:02<00:26,  3.52it/s]\r  7%|7         | 7/100 [00:03<00:30,  3.04it/s]\r  8%|8         | 8/100 [00:03<00:33,  2.72it/s]\r  9%|9         | 9/100 [00:03<00:28,  3.17it/s]\r 10%|#         | 10/100 [00:04<00:26,  3.39it/s]\r 11%|#1        | 11/100 [00:04<00:21,  4.12it/s]\r 12%|#2        | 12/100 [00:04<00:20,  4.35it/s]\r 13%|#3        | 13/100 [00:04<00:25,  3.40it/s]\r 14%|#4        | 14/100 [00:05<00:26,  3.21it/s]\r 15%|#5        | 15/100 [00:05<00:25,  3.28it/s]\r 16%|#6        | 16/100 [00:05<00:24,  3.45it/s]\r 17%|#7        | 17/100 [00:05<00:19,  4.20it/s]\r 18%|#8        | 18/100 [00:06<00:18,  4.38it/s]\r 19%|#9        | 19/100 [00:06<00:18,  4.29it/s]\r 20%|##        | 20/100 [00:06<00:20,  3.91it/s]\r 21%|##1       | 21/100 [00:06<00:17,  4.49it/s]\r 22%|##2       | 22/100 [00:07<00:23,  3.33it/s]\r 23%|##3       | 23/100 [00:07<00:20,  3.82it/s]\r 24%|##4       | 24/100 [00:07<00:24,  3.05it/s]\r 25%|##5       | 25/100 [00:08<00:26,  2.81it/s]\r 26%|##6       | 26/100 [00:08<00:21,  3.47it/s]\r 27%|##7       | 27/100 [00:08<00:22,  3.23it/s]\r 28%|##8       | 28/100 [00:09<00:23,  3.06it/s]\r 29%|##9       | 29/100 [00:09<00:18,  3.77it/s]\r 30%|###       | 30/100 [00:09<00:20,  3.37it/s]\r 31%|###1      | 31/100 [00:09<00:16,  4.14it/s]\r 32%|###2      | 32/100 [00:10<00:19,  3.54it/s]\r 33%|###3      | 33/100 [00:10<00:15,  4.22it/s]\r 34%|###4      | 34/100 [00:10<00:17,  3.77it/s]\r 35%|###5      | 35/100 [00:11<00:20,  3.15it/s]\r 36%|###6      | 36/100 [00:11<00:17,  3.63it/s]\r 37%|###7      | 37/100 [00:11<00:17,  3.62it/s]\r 38%|###8      | 38/100 [00:11<00:16,  3.82it/s]\r 39%|###9      | 39/100 [00:12<00:15,  3.86it/s]\r 40%|####      | 40/100 [00:12<00:17,  3.40it/s]\r 41%|####1     | 41/100 [00:12<00:18,  3.25it/s]\r 42%|####2     | 42/100 [00:13<00:19,  2.92it/s]\r 43%|####3     | 43/100 [00:13<00:21,  2.62it/s]\r 44%|####4     | 44/100 [00:14<00:21,  2.62it/s]\r 45%|####5     | 45/100 [00:14<00:20,  2.66it/s]\r 46%|####6     | 46/100 [00:14<00:16,  3.23it/s]\r 47%|####6     | 47/100 [00:15<00:20,  2.60it/s]\r 48%|####8     | 48/100 [00:15<00:20,  2.49it/s]\r 49%|####9     | 49/100 [00:15<00:18,  2.79it/s]\r 50%|#####     | 50/100 [00:16<00:19,  2.57it/s]\r 51%|#####1    | 51/100 [00:16<00:20,  2.36it/s]\r 52%|#####2    | 52/100 [00:17<00:23,  2.03it/s]\r 53%|#####3    | 53/100 [00:17<00:22,  2.08it/s]\r 54%|#####4    | 54/100 [00:18<00:21,  2.10it/s]\r 55%|#####5    | 55/100 [00:18<00:18,  2.47it/s]\r 56%|#####6    | 56/100 [00:18<00:15,  2.87it/s]\r 57%|#####6    | 57/100 [00:19<00:16,  2.62it/s]\r 58%|#####8    | 58/100 [00:19<00:17,  2.35it/s]\r 59%|#####8    | 59/100 [00:20<00:15,  2.57it/s]\r 60%|######    | 60/100 [00:20<00:16,  2.40it/s]\r 61%|######1   | 61/100 [00:20<00:14,  2.76it/s]\r 62%|######2   | 62/100 [00:21<00:14,  2.54it/s]\r 63%|######3   | 63/100 [00:21<00:12,  2.88it/s]\r 64%|######4   | 64/100 [00:22<00:14,  2.43it/s]\r 65%|######5   | 65/100 [00:22<00:16,  2.17it/s]\r 66%|######6   | 66/100 [00:23<00:15,  2.22it/s]\r 67%|######7   | 67/100 [00:23<00:15,  2.17it/s]\r 68%|######8   | 68/100 [00:23<00:13,  2.43it/s]\r 69%|######9   | 69/100 [00:24<00:13,  2.27it/s]\r 70%|#######   | 70/100 [00:24<00:12,  2.49it/s]\r 71%|#######1  | 71/100 [00:25<00:11,  2.46it/s]\r 72%|#######2  | 72/100 [00:25<00:09,  3.09it/s]\r 73%|#######3  | 73/100 [00:25<00:07,  3.85it/s]\r 74%|#######4  | 74/100 [00:25<00:08,  3.04it/s]\r 75%|#######5  | 75/100 [00:25<00:06,  3.63it/s]\r 76%|#######6  | 76/100 [00:26<00:05,  4.24it/s]\r 77%|#######7  | 77/100 [00:26<00:05,  4.56it/s]\r 78%|#######8  | 78/100 [00:26<00:05,  4.31it/s]\r 79%|#######9  | 79/100 [00:26<00:04,  4.84it/s]\r 80%|########  | 80/100 [00:27<00:05,  3.86it/s]\r 81%|########1 | 81/100 [00:27<00:04,  4.48it/s]\r 82%|########2 | 82/100 [00:27<00:04,  3.67it/s]\r 83%|########2 | 83/100 [00:27<00:04,  4.17it/s]\r 84%|########4 | 84/100 [00:28<00:03,  4.14it/s]\r 85%|########5 | 85/100 [00:28<00:03,  4.68it/s]\r 86%|########6 | 86/100 [00:28<00:02,  5.29it/s]\r 87%|########7 | 87/100 [00:28<00:02,  4.83it/s]\r 88%|########8 | 88/100 [00:28<00:02,  5.00it/s]\r 89%|########9 | 89/100 [00:29<00:02,  4.52it/s]\r 90%|######### | 90/100 [00:29<00:02,  3.92it/s]\r 91%|#########1| 91/100 [00:29<00:02,  3.78it/s]\r 92%|#########2| 92/100 [00:29<00:02,  3.85it/s]\r 93%|#########3| 93/100 [00:30<00:01,  4.38it/s]\r 94%|#########3| 94/100 [00:30<00:01,  3.35it/s]\r 95%|#########5| 95/100 [00:30<00:01,  2.86it/s]\r 96%|#########6| 96/100 [00:31<00:01,  2.57it/s]\r 97%|#########7| 97/100 [00:31<00:01,  2.76it/s]\r 98%|#########8| 98/100 [00:32<00:00,  2.92it/s]\r 99%|#########9| 99/100 [00:32<00:00,  3.08it/s]\r100%|##########| 100/100 [00:32<00:00,  2.87it/s]\r100%|##########| 100/100 [00:32<00:00,  3.05it/s]\n",
            "/content/drive/MyDrive/learning-tsp-exp1/learning-tsp/eval.py:35: VisibleDeprecationWarning: Creating an ndarray from ragged nested sequences (which is a list-or-tuple of lists-or-tuples-or ndarrays with different lengths or shapes) is deprecated. If you meant to do this, you must specify 'dtype=object' when creating the ndarray\n",
            "  costs, tours, durations = np.array(costs), np.array(tours), np.array(durations)\n",
            "\n"
          ]
        }
      ]
    },
    {
      "cell_type": "code",
      "source": [
        "# Evaluation\n",
        "# rl-ar-var-20pnn-gnn-max-critic_20200313T002323 bs --batch_size 128 --widths 128\n",
        "!CUDA_VISIBLE_DEVICES=config.gpu_id\n",
        "!conda run -n tsp python /content/drive/MyDrive/learning-tsp-exp1/learning-tsp/eval.py /content/drive/MyDrive/learning-tsp-exp1/learning-tsp/data/tsp/tsp20-50_concorde.txt --model /content/drive/MyDrive/learning-tsp-exp1/learning-tsp/pretrained/tsp_20-50/rl-ar-var-20pnn-gnn-max-critic_20200313T002323/  --decode_strategies bs --batch_size 128 --widths 128"
      ],
      "metadata": {
        "colab": {
          "base_uri": "https://localhost:8080/"
        },
        "id": "NtycPP0wtk1B",
        "outputId": "362f6081-cf3a-4abb-fb20-5d67d0afa68d"
      },
      "execution_count": null,
      "outputs": [
        {
          "output_type": "stream",
          "name": "stdout",
          "text": [
            "\n",
            "Loading model from /content/drive/MyDrive/learning-tsp-exp1/learning-tsp/pretrained/tsp_20-50/rl-ar-var-20pnn-gnn-max-critic_20200313T002323/epoch-99.pt\n",
            "\n",
            "Loading from /content/drive/MyDrive/learning-tsp-exp1/learning-tsp/data/tsp/tsp20-50_concorde.txt...\n",
            "Validation groundtruth cost: 4.857 +- 0.638\n",
            "Validation average cost: 4.940 +- 0.693\n",
            "Validation optimality gap: 1.596% +- 1.784\n",
            "Average duration: 1.658s +- 0.827\n",
            "Total duration: 165.8372097015381s\n",
            "\n",
            "\r  0%|          | 0/12800 [00:00<?, ?it/s]\r  6%|6         | 806/12800 [00:00<00:01, 8048.69it/s]\r 15%|#4        | 1869/12800 [00:00<00:01, 9562.24it/s]\r 24%|##3       | 3030/12800 [00:00<00:00, 10493.24it/s]\r 32%|###1      | 4080/12800 [00:00<00:00, 9157.24it/s] \r 41%|####1     | 5275/12800 [00:00<00:00, 10076.05it/s]\r 49%|####9     | 6306/12800 [00:00<00:00, 8745.22it/s] \r 57%|#####6    | 7276/12800 [00:00<00:00, 9012.60it/s]\r 64%|######4   | 8208/12800 [00:00<00:00, 7910.92it/s]\r 71%|#######1  | 9126/12800 [00:01<00:00, 8244.18it/s]\r 81%|########1 | 10426/12800 [00:01<00:00, 9541.93it/s]\r 89%|########9 | 11420/12800 [00:01<00:00, 8368.63it/s]\r 96%|#########6| 12345/12800 [00:01<00:00, 8595.34it/s]\r100%|##########| 12800/12800 [00:01<00:00, 8888.11it/s]\n",
            "\r  0%|          | 0/100 [00:00<?, ?it/s]\r  1%|1         | 1/100 [00:03<05:05,  3.08s/it]\r  2%|2         | 2/100 [00:05<04:37,  2.84s/it]\r  3%|3         | 3/100 [00:06<02:52,  1.78s/it]\r  4%|4         | 4/100 [00:06<02:10,  1.36s/it]\r  5%|5         | 5/100 [00:08<02:02,  1.29s/it]\r  6%|6         | 6/100 [00:08<01:45,  1.12s/it]\r  7%|7         | 7/100 [00:11<02:24,  1.56s/it]\r  8%|8         | 8/100 [00:14<02:57,  1.92s/it]\r  9%|9         | 9/100 [00:15<02:30,  1.66s/it]\r 10%|#         | 10/100 [00:16<02:20,  1.56s/it]\r 11%|#1        | 11/100 [00:17<01:51,  1.26s/it]\r 12%|#2        | 12/100 [00:18<01:45,  1.20s/it]\r 13%|#3        | 13/100 [00:20<02:22,  1.64s/it]\r 14%|#4        | 14/100 [00:22<02:31,  1.76s/it]\r 15%|#5        | 15/100 [00:24<02:23,  1.69s/it]\r 16%|#6        | 16/100 [00:25<02:12,  1.58s/it]\r 17%|#7        | 17/100 [00:26<01:43,  1.25s/it]\r 18%|#8        | 18/100 [00:27<01:37,  1.19s/it]\r 19%|#9        | 19/100 [00:28<01:36,  1.19s/it]\r 20%|##        | 20/100 [00:30<01:47,  1.35s/it]\r 21%|##1       | 21/100 [00:30<01:30,  1.15s/it]\r 22%|##2       | 22/100 [00:33<02:13,  1.71s/it]\r 23%|##3       | 23/100 [00:34<01:51,  1.45s/it]\r 24%|##4       | 24/100 [00:37<02:26,  1.93s/it]\r 25%|##5       | 25/100 [00:40<02:39,  2.12s/it]\r 26%|##6       | 26/100 [00:40<02:03,  1.67s/it]\r 27%|##7       | 27/100 [00:43<02:13,  1.83s/it]\r 28%|##8       | 28/100 [00:45<02:19,  1.93s/it]\r 29%|##9       | 29/100 [00:45<01:48,  1.52s/it]\r 30%|###       | 30/100 [00:48<02:00,  1.72s/it]\r 31%|###1      | 31/100 [00:48<01:34,  1.37s/it]\r 32%|###2      | 32/100 [00:50<01:51,  1.64s/it]\r 33%|###3      | 33/100 [00:51<01:28,  1.32s/it]\r 34%|###4      | 34/100 [00:53<01:37,  1.48s/it]\r 35%|###5      | 35/100 [00:55<01:51,  1.71s/it]\r 36%|###6      | 36/100 [00:56<01:30,  1.41s/it]\r 37%|###7      | 37/100 [00:57<01:25,  1.36s/it]\r 38%|###8      | 38/100 [00:58<01:16,  1.23s/it]\r 39%|###9      | 39/100 [00:59<01:13,  1.21s/it]\r 40%|####      | 40/100 [01:01<01:23,  1.39s/it]\r 41%|####1     | 41/100 [01:03<01:26,  1.46s/it]\r 42%|####2     | 42/100 [01:05<01:38,  1.70s/it]\r 43%|####3     | 43/100 [01:07<01:51,  1.96s/it]\r 44%|####4     | 44/100 [01:09<01:51,  1.98s/it]\r 45%|####5     | 45/100 [01:11<01:45,  1.91s/it]\r 46%|####6     | 46/100 [01:12<01:22,  1.52s/it]\r 47%|####6     | 47/100 [01:15<01:45,  1.99s/it]\r 48%|####8     | 48/100 [01:17<01:46,  2.06s/it]\r 49%|####9     | 49/100 [01:18<01:29,  1.75s/it]\r 50%|#####     | 50/100 [01:20<01:35,  1.92s/it]\r 51%|#####1    | 51/100 [01:23<01:44,  2.14s/it]\r 52%|#####2    | 52/100 [01:26<01:58,  2.46s/it]\r 53%|#####3    | 53/100 [01:29<01:53,  2.41s/it]\r 54%|#####4    | 54/100 [01:31<01:50,  2.40s/it]\r 55%|#####5    | 55/100 [01:32<01:29,  1.98s/it]\r 56%|#####6    | 56/100 [01:33<01:12,  1.65s/it]\r 57%|#####6    | 57/100 [01:35<01:18,  1.83s/it]\r 58%|#####8    | 58/100 [01:37<01:18,  1.87s/it]\r 59%|#####8    | 59/100 [01:38<01:09,  1.68s/it]\r 60%|######    | 60/100 [01:41<01:17,  1.93s/it]\r 61%|######1   | 61/100 [01:42<01:03,  1.64s/it]\r 62%|######2   | 62/100 [01:44<01:09,  1.83s/it]\r 63%|######3   | 63/100 [01:45<00:57,  1.57s/it]\r 64%|######4   | 64/100 [01:48<01:12,  2.01s/it]\r 65%|######5   | 65/100 [01:51<01:22,  2.36s/it]\r 66%|######6   | 66/100 [01:53<01:18,  2.30s/it]\r 67%|######7   | 67/100 [01:56<01:18,  2.37s/it]\r 68%|######8   | 68/100 [01:57<01:05,  2.05s/it]\r 69%|######9   | 69/100 [02:00<01:09,  2.23s/it]\r 70%|#######   | 70/100 [02:01<01:00,  2.01s/it]\r 71%|#######1  | 71/100 [02:04<01:03,  2.19s/it]\r 72%|#######2  | 72/100 [02:04<00:47,  1.69s/it]\r 73%|#######3  | 73/100 [02:05<00:36,  1.34s/it]\r 74%|#######4  | 74/100 [02:08<00:48,  1.87s/it]\r 75%|#######5  | 75/100 [02:09<00:38,  1.52s/it]\r 76%|#######6  | 76/100 [02:09<00:30,  1.26s/it]\r 77%|#######7  | 77/100 [02:10<00:26,  1.14s/it]\r 78%|#######8  | 78/100 [02:12<00:27,  1.24s/it]\r 79%|#######9  | 79/100 [02:12<00:22,  1.09s/it]\r 80%|########  | 80/100 [02:15<00:28,  1.40s/it]\r 81%|########1 | 81/100 [02:15<00:22,  1.19s/it]\r 82%|########2 | 82/100 [02:18<00:28,  1.56s/it]\r 83%|########2 | 83/100 [02:19<00:23,  1.36s/it]\r 84%|########4 | 84/100 [02:20<00:23,  1.47s/it]\r 85%|########5 | 85/100 [02:21<00:18,  1.26s/it]\r 86%|########6 | 86/100 [02:22<00:14,  1.06s/it]\r 87%|########7 | 87/100 [02:23<00:15,  1.17s/it]\r 88%|########8 | 88/100 [02:24<00:13,  1.14s/it]\r 89%|########9 | 89/100 [02:26<00:13,  1.27s/it]\r 90%|######### | 90/100 [02:28<00:14,  1.49s/it]\r 91%|#########1| 91/100 [02:29<00:13,  1.52s/it]\r 92%|#########2| 92/100 [02:31<00:11,  1.47s/it]\r 93%|#########3| 93/100 [02:31<00:08,  1.25s/it]\r 94%|#########3| 94/100 [02:34<00:10,  1.78s/it]\r 95%|#########5| 95/100 [02:38<00:10,  2.17s/it]\r 96%|#########6| 96/100 [02:41<00:09,  2.48s/it]\r 97%|#########7| 97/100 [02:43<00:06,  2.26s/it]\r 98%|#########8| 98/100 [02:44<00:04,  2.13s/it]\r 99%|#########9| 99/100 [02:46<00:01,  1.99s/it]\r100%|##########| 100/100 [02:49<00:00,  2.16s/it]\r100%|##########| 100/100 [02:49<00:00,  1.69s/it]\n",
            "/content/drive/MyDrive/learning-tsp-exp1/learning-tsp/eval.py:35: VisibleDeprecationWarning: Creating an ndarray from ragged nested sequences (which is a list-or-tuple of lists-or-tuples-or ndarrays with different lengths or shapes) is deprecated. If you meant to do this, you must specify 'dtype=object' when creating the ndarray\n",
            "  costs, tours, durations = np.array(costs), np.array(tours), np.array(durations)\n",
            "\n"
          ]
        }
      ]
    },
    {
      "cell_type": "code",
      "source": [
        "# Evaluation\n",
        "# rl-ar-200-20pnn-gnn-max-ln-lowlr_20200428T092228 bs --batch_size 128 --widths 1\n",
        "!CUDA_VISIBLE_DEVICES=config.gpu_id\n",
        "!conda run -n tsp python /content/drive/MyDrive/learning-tsp-exp1/learning-tsp/eval.py /content/drive/MyDrive/learning-tsp-exp1/learning-tsp/data/tsp/tsp20-50_concorde.txt --model /content/drive/MyDrive/learning-tsp-exp1/learning-tsp/pretrained/tsp_200-200/rl-ar-200-20pnn-gnn-max-ln-lowlr_20200428T092228/  --decode_strategies bs --batch_size 128 --widths 1"
      ],
      "metadata": {
        "colab": {
          "base_uri": "https://localhost:8080/"
        },
        "id": "4ngEmOY2uNXr",
        "outputId": "29e40abe-1ac0-465c-dd39-d0d83a8fba0b"
      },
      "execution_count": null,
      "outputs": [
        {
          "output_type": "stream",
          "name": "stdout",
          "text": [
            "\n",
            "Loading model from /content/drive/MyDrive/learning-tsp-exp1/learning-tsp/pretrained/tsp_200-200/rl-ar-200-20pnn-gnn-max-ln-lowlr_20200428T092228/epoch-99.pt\n",
            "\n",
            "Loading from /content/drive/MyDrive/learning-tsp-exp1/learning-tsp/data/tsp/tsp20-50_concorde.txt...\n",
            "Validation groundtruth cost: 4.857 +- 0.638\n",
            "Validation average cost: 6.205 +- 0.975\n",
            "Validation optimality gap: 27.710% +- 11.002\n",
            "Average duration: 0.260s +- 0.109\n",
            "Total duration: 26.02030873298645s\n",
            "\n",
            "/usr/local/envs/tsp/lib/python3.6/site-packages/torch/serialization.py:453: SourceChangeWarning: source code of class 'nets.attention_model.AttentionModel' has changed. you can retrieve the original source code by accessing the object's source attribute or set `torch.nn.Module.dump_patches = True` and use the patch tool to revert the changes.\n",
            "  warnings.warn(msg, SourceChangeWarning)\n",
            "/usr/local/envs/tsp/lib/python3.6/site-packages/torch/serialization.py:453: SourceChangeWarning: source code of class 'nets.encoders.gnn_encoder.GNNLayer' has changed. you can retrieve the original source code by accessing the object's source attribute or set `torch.nn.Module.dump_patches = True` and use the patch tool to revert the changes.\n",
            "  warnings.warn(msg, SourceChangeWarning)\n",
            "\r  0%|          | 0/12800 [00:00<?, ?it/s]\r  6%|6         | 824/12800 [00:00<00:01, 8235.43it/s]\r 15%|#4        | 1893/12800 [00:00<00:01, 9677.59it/s]\r 24%|##3       | 3033/12800 [00:00<00:01, 7976.65it/s]\r 30%|###       | 3869/12800 [00:00<00:01, 8021.27it/s]\r 40%|###9      | 5084/12800 [00:00<00:00, 9339.01it/s]\r 47%|####7     | 6050/12800 [00:00<00:00, 8180.45it/s]\r 55%|#####5    | 7048/12800 [00:00<00:00, 8682.60it/s]\r 62%|######2   | 7952/12800 [00:00<00:00, 7860.14it/s]\r 70%|######9   | 8922/12800 [00:01<00:00, 8350.35it/s]\r 79%|#######8  | 10086/12800 [00:01<00:00, 9258.21it/s]\r 86%|########6 | 11045/12800 [00:01<00:00, 8291.21it/s]\r 95%|#########4| 12142/12800 [00:01<00:00, 8997.74it/s]\r100%|##########| 12800/12800 [00:01<00:00, 8648.58it/s]\n",
            "\r  0%|          | 0/100 [00:00<?, ?it/s]\r  1%|1         | 1/100 [00:00<00:50,  1.97it/s]\r  2%|2         | 2/100 [00:00<00:45,  2.16it/s]\r  3%|3         | 3/100 [00:01<00:29,  3.27it/s]\r  4%|4         | 4/100 [00:01<00:23,  4.08it/s]\r  5%|5         | 5/100 [00:01<00:22,  4.28it/s]\r  6%|6         | 6/100 [00:01<00:19,  4.80it/s]\r  7%|7         | 7/100 [00:01<00:24,  3.78it/s]\r  8%|8         | 8/100 [00:02<00:28,  3.26it/s]\r  9%|9         | 9/100 [00:02<00:24,  3.69it/s]\r 10%|#         | 10/100 [00:02<00:23,  3.90it/s]\r 11%|#1        | 11/100 [00:02<00:19,  4.67it/s]\r 12%|#2        | 12/100 [00:03<00:18,  4.83it/s]\r 13%|#3        | 13/100 [00:03<00:22,  3.84it/s]\r 14%|#4        | 14/100 [00:03<00:23,  3.62it/s]\r 15%|#5        | 15/100 [00:04<00:22,  3.71it/s]\r 16%|#6        | 16/100 [00:04<00:21,  3.82it/s]\r 17%|#7        | 17/100 [00:04<00:17,  4.63it/s]\r 18%|#8        | 18/100 [00:04<00:17,  4.78it/s]\r 19%|#9        | 19/100 [00:04<00:17,  4.76it/s]\r 20%|##        | 20/100 [00:05<00:18,  4.35it/s]\r 21%|##1       | 21/100 [00:05<00:16,  4.91it/s]\r 22%|##2       | 22/100 [00:05<00:21,  3.69it/s]\r 23%|##3       | 23/100 [00:05<00:18,  4.18it/s]\r 24%|##4       | 24/100 [00:06<00:22,  3.36it/s]\r 25%|##5       | 25/100 [00:06<00:24,  3.11it/s]\r 26%|##6       | 26/100 [00:06<00:19,  3.81it/s]\r 27%|##7       | 27/100 [00:07<00:20,  3.55it/s]\r 28%|##8       | 28/100 [00:07<00:21,  3.41it/s]\r 29%|##9       | 29/100 [00:07<00:17,  4.14it/s]\r 30%|###       | 30/100 [00:07<00:18,  3.77it/s]\r 31%|###1      | 31/100 [00:07<00:15,  4.58it/s]\r 32%|###2      | 32/100 [00:08<00:17,  3.91it/s]\r 33%|###3      | 33/100 [00:08<00:14,  4.59it/s]\r 34%|###4      | 34/100 [00:08<00:15,  4.20it/s]\r 35%|###5      | 35/100 [00:09<00:18,  3.59it/s]\r 36%|###6      | 36/100 [00:09<00:16,  3.96it/s]\r 37%|###7      | 37/100 [00:09<00:15,  3.94it/s]\r 38%|###8      | 38/100 [00:09<00:15,  4.11it/s]\r 39%|###9      | 39/100 [00:09<00:15,  4.07it/s]\r 40%|####      | 40/100 [00:10<00:16,  3.67it/s]\r 41%|####1     | 41/100 [00:10<00:16,  3.51it/s]\r 42%|####2     | 42/100 [00:11<00:18,  3.16it/s]\r 43%|####3     | 43/100 [00:11<00:19,  2.87it/s]\r 44%|####4     | 44/100 [00:11<00:19,  2.85it/s]\r 45%|####5     | 45/100 [00:12<00:18,  2.91it/s]\r 46%|####6     | 46/100 [00:12<00:15,  3.45it/s]\r 47%|####6     | 47/100 [00:12<00:18,  2.84it/s]\r 48%|####8     | 48/100 [00:13<00:19,  2.72it/s]\r 49%|####9     | 49/100 [00:13<00:16,  3.01it/s]\r 50%|#####     | 50/100 [00:13<00:17,  2.80it/s]\r 51%|#####1    | 51/100 [00:14<00:19,  2.56it/s]\r 52%|#####2    | 52/100 [00:14<00:20,  2.32it/s]\r 53%|#####3    | 53/100 [00:15<00:19,  2.36it/s]\r 54%|#####4    | 54/100 [00:15<00:19,  2.37it/s]\r 55%|#####5    | 55/100 [00:15<00:16,  2.73it/s]\r 56%|#####6    | 56/100 [00:16<00:14,  3.13it/s]\r 57%|#####6    | 57/100 [00:16<00:14,  2.89it/s]\r 58%|#####8    | 58/100 [00:16<00:14,  2.85it/s]\r 59%|#####8    | 59/100 [00:17<00:13,  3.05it/s]\r 60%|######    | 60/100 [00:17<00:14,  2.76it/s]\r 61%|######1   | 61/100 [00:17<00:12,  3.09it/s]\r 62%|######2   | 62/100 [00:18<00:13,  2.84it/s]\r 63%|######3   | 63/100 [00:18<00:11,  3.16it/s]\r 64%|######4   | 64/100 [00:19<00:13,  2.69it/s]\r 65%|######5   | 65/100 [00:19<00:14,  2.41it/s]\r 66%|######6   | 66/100 [00:19<00:13,  2.45it/s]\r 67%|######7   | 67/100 [00:20<00:13,  2.39it/s]\r 68%|######8   | 68/100 [00:20<00:12,  2.64it/s]\r 69%|######9   | 69/100 [00:21<00:12,  2.50it/s]\r 70%|#######   | 70/100 [00:21<00:11,  2.71it/s]\r 71%|#######1  | 71/100 [00:21<00:11,  2.53it/s]\r 72%|#######2  | 72/100 [00:22<00:09,  3.08it/s]\r 73%|#######3  | 73/100 [00:22<00:07,  3.66it/s]\r 74%|#######4  | 74/100 [00:22<00:09,  2.89it/s]\r 75%|#######5  | 75/100 [00:22<00:07,  3.44it/s]\r 76%|#######6  | 76/100 [00:22<00:05,  4.10it/s]\r 77%|#######7  | 77/100 [00:23<00:05,  4.54it/s]\r 78%|#######8  | 78/100 [00:23<00:04,  4.47it/s]\r 79%|#######9  | 79/100 [00:23<00:04,  5.03it/s]\r 80%|########  | 80/100 [00:23<00:04,  4.32it/s]\r 81%|########1 | 81/100 [00:23<00:03,  4.96it/s]\r 82%|########2 | 82/100 [00:24<00:04,  4.13it/s]\r 83%|########2 | 83/100 [00:24<00:03,  4.61it/s]\r 84%|########4 | 84/100 [00:24<00:03,  4.57it/s]\r 85%|########5 | 85/100 [00:24<00:02,  5.09it/s]\r 86%|########6 | 86/100 [00:24<00:02,  5.77it/s]\r 87%|########7 | 87/100 [00:25<00:02,  5.33it/s]\r 88%|########8 | 88/100 [00:25<00:02,  5.40it/s]\r 89%|########9 | 89/100 [00:25<00:02,  4.93it/s]\r 90%|######### | 90/100 [00:25<00:02,  4.31it/s]\r 91%|#########1| 91/100 [00:26<00:02,  4.19it/s]\r 92%|#########2| 92/100 [00:26<00:01,  4.27it/s]\r 93%|#########3| 93/100 [00:26<00:01,  4.79it/s]\r 94%|#########3| 94/100 [00:26<00:01,  3.70it/s]\r 95%|#########5| 95/100 [00:27<00:01,  3.18it/s]\r 96%|#########6| 96/100 [00:27<00:01,  2.87it/s]\r 97%|#########7| 97/100 [00:28<00:00,  3.09it/s]\r 98%|#########8| 98/100 [00:28<00:00,  3.26it/s]\r 99%|#########9| 99/100 [00:28<00:00,  3.48it/s]\r100%|##########| 100/100 [00:28<00:00,  3.24it/s]\r100%|##########| 100/100 [00:28<00:00,  3.46it/s]\n",
            "/content/drive/MyDrive/learning-tsp-exp1/learning-tsp/eval.py:35: VisibleDeprecationWarning: Creating an ndarray from ragged nested sequences (which is a list-or-tuple of lists-or-tuples-or ndarrays with different lengths or shapes) is deprecated. If you meant to do this, you must specify 'dtype=object' when creating the ndarray\n",
            "  costs, tours, durations = np.array(costs), np.array(tours), np.array(durations)\n",
            "\n"
          ]
        }
      ]
    },
    {
      "cell_type": "code",
      "source": [
        "# Evaluation\n",
        "# rl-ar-200-20pnn-gnn-max-ln-lowlr_20200428T092228 bs --batch_size 128 --widths 128\n",
        "!CUDA_VISIBLE_DEVICES=config.gpu_id\n",
        "!conda run -n tsp python /content/drive/MyDrive/learning-tsp-exp1/learning-tsp/eval.py /content/drive/MyDrive/learning-tsp-exp1/learning-tsp/data/tsp/tsp20-50_concorde.txt --model /content/drive/MyDrive/learning-tsp-exp1/learning-tsp/pretrained/tsp_200-200/rl-ar-200-20pnn-gnn-max-ln-lowlr_20200428T092228/  --decode_strategies bs --batch_size 128 --widths 128"
      ],
      "metadata": {
        "colab": {
          "base_uri": "https://localhost:8080/"
        },
        "id": "YLm6fc8furtz",
        "outputId": "99f0897a-07fa-4123-dd6e-de0fe9985275"
      },
      "execution_count": null,
      "outputs": [
        {
          "output_type": "stream",
          "name": "stdout",
          "text": [
            "\n",
            "Loading model from /content/drive/MyDrive/learning-tsp-exp1/learning-tsp/pretrained/tsp_200-200/rl-ar-200-20pnn-gnn-max-ln-lowlr_20200428T092228/epoch-99.pt\n",
            "\n",
            "Loading from /content/drive/MyDrive/learning-tsp-exp1/learning-tsp/data/tsp/tsp20-50_concorde.txt...\n",
            "Validation groundtruth cost: 4.857 +- 0.638\n",
            "Validation average cost: 5.953 +- 0.876\n",
            "Validation optimality gap: 22.750% +- 11.395\n",
            "Average duration: 1.632s +- 0.804\n",
            "Total duration: 163.19103813171387s\n",
            "\n",
            "/usr/local/envs/tsp/lib/python3.6/site-packages/torch/serialization.py:453: SourceChangeWarning: source code of class 'nets.attention_model.AttentionModel' has changed. you can retrieve the original source code by accessing the object's source attribute or set `torch.nn.Module.dump_patches = True` and use the patch tool to revert the changes.\n",
            "  warnings.warn(msg, SourceChangeWarning)\n",
            "/usr/local/envs/tsp/lib/python3.6/site-packages/torch/serialization.py:453: SourceChangeWarning: source code of class 'nets.encoders.gnn_encoder.GNNLayer' has changed. you can retrieve the original source code by accessing the object's source attribute or set `torch.nn.Module.dump_patches = True` and use the patch tool to revert the changes.\n",
            "  warnings.warn(msg, SourceChangeWarning)\n",
            "\r  0%|          | 0/12800 [00:00<?, ?it/s]\r  7%|6         | 845/12800 [00:00<00:01, 8442.30it/s]\r 15%|#5        | 1946/12800 [00:00<00:01, 9949.61it/s]\r 24%|##3       | 3032/12800 [00:00<00:01, 9007.33it/s]\r 32%|###2      | 4134/12800 [00:00<00:00, 9734.66it/s]\r 41%|####      | 5216/12800 [00:00<00:00, 10101.51it/s]\r 49%|####8     | 6238/12800 [00:00<00:00, 8650.91it/s] \r 56%|#####6    | 7198/12800 [00:00<00:00, 8920.46it/s]\r 63%|######3   | 8119/12800 [00:00<00:00, 7902.61it/s]\r 71%|#######   | 9039/12800 [00:01<00:00, 8246.73it/s]\r 81%|########  | 10319/12800 [00:01<00:00, 9499.94it/s]\r 88%|########8 | 11305/12800 [00:01<00:00, 8460.38it/s]\r 96%|#########6| 12298/12800 [00:01<00:00, 8844.72it/s]\r100%|##########| 12800/12800 [00:01<00:00, 8948.58it/s]\n",
            "\r  0%|          | 0/100 [00:00<?, ?it/s]\r  1%|1         | 1/100 [00:01<03:03,  1.85s/it]\r  2%|2         | 2/100 [00:04<03:56,  2.41s/it]\r  3%|3         | 3/100 [00:05<02:31,  1.56s/it]\r  4%|4         | 4/100 [00:05<01:59,  1.24s/it]\r  5%|5         | 5/100 [00:07<01:57,  1.23s/it]\r  6%|6         | 6/100 [00:07<01:42,  1.09s/it]\r  7%|7         | 7/100 [00:10<02:26,  1.57s/it]\r  8%|8         | 8/100 [00:13<03:00,  1.96s/it]\r  9%|9         | 9/100 [00:14<02:34,  1.70s/it]\r 10%|#         | 10/100 [00:15<02:24,  1.60s/it]\r 11%|#1        | 11/100 [00:16<01:54,  1.29s/it]\r 12%|#2        | 12/100 [00:17<01:49,  1.24s/it]\r 13%|#3        | 13/100 [00:20<02:28,  1.71s/it]\r 14%|#4        | 14/100 [00:22<02:37,  1.84s/it]\r 15%|#5        | 15/100 [00:24<02:29,  1.76s/it]\r 16%|#6        | 16/100 [00:25<02:19,  1.66s/it]\r 17%|#7        | 17/100 [00:26<01:49,  1.32s/it]\r 18%|#8        | 18/100 [00:27<01:43,  1.27s/it]\r 19%|#9        | 19/100 [00:28<01:42,  1.26s/it]\r 20%|##        | 20/100 [00:30<01:54,  1.43s/it]\r 21%|##1       | 21/100 [00:30<01:35,  1.21s/it]\r 22%|##2       | 22/100 [00:34<02:19,  1.79s/it]\r 23%|##3       | 23/100 [00:34<01:56,  1.52s/it]\r 24%|##4       | 24/100 [00:38<02:31,  2.00s/it]\r 25%|##5       | 25/100 [00:40<02:44,  2.19s/it]\r 26%|##6       | 26/100 [00:41<02:07,  1.72s/it]\r 27%|##7       | 27/100 [00:43<02:16,  1.87s/it]\r 28%|##8       | 28/100 [00:45<02:22,  1.98s/it]\r 29%|##9       | 29/100 [00:46<01:50,  1.56s/it]\r 30%|###       | 30/100 [00:48<02:02,  1.75s/it]\r 31%|###1      | 31/100 [00:49<01:35,  1.39s/it]\r 32%|###2      | 32/100 [00:51<01:53,  1.66s/it]\r 33%|###3      | 33/100 [00:51<01:29,  1.34s/it]\r 34%|###4      | 34/100 [00:53<01:38,  1.49s/it]\r 35%|###5      | 35/100 [00:56<01:51,  1.72s/it]\r 36%|###6      | 36/100 [00:56<01:30,  1.41s/it]\r 37%|###7      | 37/100 [00:58<01:25,  1.36s/it]\r 38%|###8      | 38/100 [00:58<01:16,  1.23s/it]\r 39%|###9      | 39/100 [01:00<01:13,  1.21s/it]\r 40%|####      | 40/100 [01:01<01:22,  1.37s/it]\r 41%|####1     | 41/100 [01:03<01:24,  1.44s/it]\r 42%|####2     | 42/100 [01:05<01:36,  1.66s/it]\r 43%|####3     | 43/100 [01:08<01:48,  1.91s/it]\r 44%|####4     | 44/100 [01:10<01:48,  1.93s/it]\r 45%|####5     | 45/100 [01:11<01:42,  1.86s/it]\r 46%|####6     | 46/100 [01:12<01:19,  1.48s/it]\r 47%|####6     | 47/100 [01:15<01:42,  1.93s/it]\r 48%|####8     | 48/100 [01:17<01:43,  1.99s/it]\r 49%|####9     | 49/100 [01:18<01:26,  1.69s/it]\r 50%|#####     | 50/100 [01:20<01:32,  1.85s/it]\r 51%|#####1    | 51/100 [01:23<01:40,  2.06s/it]\r 52%|#####2    | 52/100 [01:26<01:53,  2.36s/it]\r 53%|#####3    | 53/100 [01:28<01:48,  2.31s/it]\r 54%|#####4    | 54/100 [01:30<01:45,  2.30s/it]\r 55%|#####5    | 55/100 [01:31<01:25,  1.90s/it]\r 56%|#####6    | 56/100 [01:32<01:09,  1.59s/it]\r 57%|#####6    | 57/100 [01:34<01:16,  1.77s/it]\r 58%|#####8    | 58/100 [01:36<01:15,  1.81s/it]\r 59%|#####8    | 59/100 [01:37<01:07,  1.64s/it]\r 60%|######    | 60/100 [01:40<01:15,  1.90s/it]\r 61%|######1   | 61/100 [01:41<01:02,  1.61s/it]\r 62%|######2   | 62/100 [01:43<01:08,  1.80s/it]\r 63%|######3   | 63/100 [01:44<00:56,  1.54s/it]\r 64%|######4   | 64/100 [01:47<01:10,  1.96s/it]\r 65%|######5   | 65/100 [01:50<01:20,  2.30s/it]\r 66%|######6   | 66/100 [01:52<01:16,  2.24s/it]\r 67%|######7   | 67/100 [01:55<01:16,  2.32s/it]\r 68%|######8   | 68/100 [01:56<01:04,  2.00s/it]\r 69%|######9   | 69/100 [01:59<01:07,  2.19s/it]\r 70%|#######   | 70/100 [02:00<00:59,  1.97s/it]\r 71%|#######1  | 71/100 [02:03<01:02,  2.17s/it]\r 72%|#######2  | 72/100 [02:03<00:47,  1.68s/it]\r 73%|#######3  | 73/100 [02:04<00:35,  1.33s/it]\r 74%|#######4  | 74/100 [02:07<00:48,  1.86s/it]\r 75%|#######5  | 75/100 [02:08<00:37,  1.51s/it]\r 76%|#######6  | 76/100 [02:08<00:30,  1.25s/it]\r 77%|#######7  | 77/100 [02:09<00:26,  1.14s/it]\r 78%|#######8  | 78/100 [02:10<00:26,  1.22s/it]\r 79%|#######9  | 79/100 [02:11<00:22,  1.07s/it]\r 80%|########  | 80/100 [02:13<00:27,  1.37s/it]\r 81%|########1 | 81/100 [02:14<00:21,  1.16s/it]\r 82%|########2 | 82/100 [02:16<00:26,  1.50s/it]\r 83%|########2 | 83/100 [02:17<00:22,  1.30s/it]\r 84%|########4 | 84/100 [02:18<00:21,  1.33s/it]\r 85%|########5 | 85/100 [02:19<00:17,  1.15s/it]\r 86%|########6 | 86/100 [02:20<00:13,  1.02it/s]\r 87%|########7 | 87/100 [02:21<00:14,  1.10s/it]\r 88%|########8 | 88/100 [02:22<00:12,  1.07s/it]\r 89%|########9 | 89/100 [02:24<00:13,  1.21s/it]\r 90%|######### | 90/100 [02:26<00:14,  1.45s/it]\r 91%|#########1| 91/100 [02:27<00:13,  1.50s/it]\r 92%|#########2| 92/100 [02:29<00:11,  1.45s/it]\r 93%|#########3| 93/100 [02:29<00:08,  1.24s/it]\r 94%|#########3| 94/100 [02:32<00:10,  1.75s/it]\r 95%|#########5| 95/100 [02:35<00:10,  2.11s/it]\r 96%|#########6| 96/100 [02:38<00:09,  2.41s/it]\r 97%|#########7| 97/100 [02:40<00:06,  2.20s/it]\r 98%|#########8| 98/100 [02:42<00:04,  2.05s/it]\r 99%|#########9| 99/100 [02:43<00:01,  1.90s/it]\r100%|##########| 100/100 [02:46<00:00,  2.08s/it]\r100%|##########| 100/100 [02:46<00:00,  1.66s/it]\n",
            "/content/drive/MyDrive/learning-tsp-exp1/learning-tsp/eval.py:35: VisibleDeprecationWarning: Creating an ndarray from ragged nested sequences (which is a list-or-tuple of lists-or-tuples-or ndarrays with different lengths or shapes) is deprecated. If you meant to do this, you must specify 'dtype=object' when creating the ndarray\n",
            "  costs, tours, durations = np.array(costs), np.array(tours), np.array(durations)\n",
            "\n"
          ]
        }
      ]
    },
    {
      "cell_type": "code",
      "source": [
        "# Evaluation\n",
        "# rl-ar-var-20pnn-gnn-max_20200313T002243 greedy --batch_size 128 --widths 1\n",
        "!CUDA_VISIBLE_DEVICES=config.gpu_id\n",
        "!conda run -n tsp python /content/drive/MyDrive/learning-tsp-exp1/learning-tsp/eval.py /content/drive/MyDrive/learning-tsp-exp1/learning-tsp/data/tsp/tsp20-50_concorde.txt --model /content/drive/MyDrive/learning-tsp-exp1/learning-tsp/pretrained/tsp_20-50/rl-ar-var-20pnn-gnn-max_20200313T002243/  --decode_strategies greedy --batch_size 128 --widths 1"
      ],
      "metadata": {
        "colab": {
          "base_uri": "https://localhost:8080/"
        },
        "id": "mu1m6tOJv8s7",
        "outputId": "ae02258d-71ba-4f7f-c218-51163c08dea8"
      },
      "execution_count": null,
      "outputs": [
        {
          "output_type": "stream",
          "name": "stdout",
          "text": [
            "\n",
            "Loading model from /content/drive/MyDrive/learning-tsp-exp1/learning-tsp/pretrained/tsp_20-50/rl-ar-var-20pnn-gnn-max_20200313T002243/epoch-99.pt\n",
            "\n",
            "Loading from /content/drive/MyDrive/learning-tsp-exp1/learning-tsp/data/tsp/tsp20-50_concorde.txt...\n",
            "Validation groundtruth cost: 4.857 +- 0.638\n",
            "Validation average cost: 4.991 +- 0.701\n",
            "Validation optimality gap: 2.656% +- 2.317\n",
            "Average duration: 0.241s +- 0.163\n",
            "Total duration: 24.053423404693604s\n",
            "\n",
            "/usr/local/envs/tsp/lib/python3.6/site-packages/torch/serialization.py:453: SourceChangeWarning: source code of class 'nets.attention_model.AttentionModel' has changed. you can retrieve the original source code by accessing the object's source attribute or set `torch.nn.Module.dump_patches = True` and use the patch tool to revert the changes.\n",
            "  warnings.warn(msg, SourceChangeWarning)\n",
            "/usr/local/envs/tsp/lib/python3.6/site-packages/torch/serialization.py:453: SourceChangeWarning: source code of class 'nets.encoders.gnn_encoder.GNNLayer' has changed. you can retrieve the original source code by accessing the object's source attribute or set `torch.nn.Module.dump_patches = True` and use the patch tool to revert the changes.\n",
            "  warnings.warn(msg, SourceChangeWarning)\n",
            "\r  0%|          | 0/12800 [00:00<?, ?it/s]\r 11%|#1        | 1413/12800 [00:00<00:00, 14128.26it/s]\r 24%|##3       | 3032/12800 [00:00<00:00, 14197.06it/s]\r 39%|###8      | 4987/12800 [00:00<00:00, 16536.04it/s]\r 52%|#####1    | 6651/12800 [00:00<00:00, 14571.93it/s]\r 64%|######3   | 8142/12800 [00:00<00:00, 13442.26it/s]\r 79%|#######8  | 10090/12800 [00:00<00:00, 15245.46it/s]\r 91%|#########1| 11658/12800 [00:00<00:00, 13986.91it/s]\r100%|##########| 12800/12800 [00:00<00:00, 14579.70it/s]\n",
            "\r  0%|          | 0/100 [00:00<?, ?it/s]\r  1%|1         | 1/100 [00:01<02:26,  1.48s/it]\r  2%|2         | 2/100 [00:01<01:21,  1.20it/s]\r  4%|4         | 4/100 [00:02<00:36,  2.65it/s]\r  5%|5         | 5/100 [00:02<00:30,  3.11it/s]\r  6%|6         | 6/100 [00:02<00:24,  3.82it/s]\r  7%|7         | 7/100 [00:02<00:26,  3.45it/s]\r  8%|8         | 8/100 [00:03<00:29,  3.14it/s]\r  9%|9         | 9/100 [00:03<00:24,  3.70it/s]\r 10%|#         | 10/100 [00:03<00:22,  3.99it/s]\r 12%|#2        | 12/100 [00:03<00:16,  5.20it/s]\r 13%|#3        | 13/100 [00:04<00:20,  4.24it/s]\r 14%|#4        | 14/100 [00:04<00:21,  3.99it/s]\r 15%|#5        | 15/100 [00:04<00:20,  4.13it/s]\r 16%|#6        | 16/100 [00:04<00:19,  4.32it/s]\r 18%|#8        | 18/100 [00:05<00:14,  5.48it/s]\r 19%|#9        | 19/100 [00:05<00:14,  5.42it/s]\r 20%|##        | 20/100 [00:05<00:16,  4.93it/s]\r 21%|##1       | 21/100 [00:05<00:14,  5.59it/s]\r 22%|##2       | 22/100 [00:06<00:19,  4.10it/s]\r 23%|##3       | 23/100 [00:06<00:16,  4.64it/s]\r 24%|##4       | 24/100 [00:06<00:21,  3.61it/s]\r 25%|##5       | 25/100 [00:06<00:22,  3.33it/s]\r 26%|##6       | 26/100 [00:07<00:18,  4.10it/s]\r 27%|##7       | 27/100 [00:07<00:19,  3.67it/s]\r 28%|##8       | 28/100 [00:07<00:21,  3.37it/s]\r 29%|##9       | 29/100 [00:07<00:17,  4.13it/s]\r 30%|###       | 30/100 [00:08<00:19,  3.67it/s]\r 31%|###1      | 31/100 [00:08<00:15,  4.49it/s]\r 32%|###2      | 32/100 [00:08<00:17,  3.81it/s]\r 33%|###3      | 33/100 [00:08<00:14,  4.55it/s]\r 34%|###4      | 34/100 [00:09<00:16,  4.09it/s]\r 35%|###5      | 35/100 [00:09<00:18,  3.61it/s]\r 36%|###6      | 36/100 [00:09<00:15,  4.26it/s]\r 37%|###7      | 37/100 [00:09<00:14,  4.23it/s]\r 38%|###8      | 38/100 [00:10<00:13,  4.62it/s]\r 39%|###9      | 39/100 [00:10<00:12,  4.76it/s]\r 40%|####      | 40/100 [00:10<00:14,  4.26it/s]\r 41%|####1     | 41/100 [00:10<00:14,  4.07it/s]\r 42%|####2     | 42/100 [00:11<00:16,  3.61it/s]\r 43%|####3     | 43/100 [00:11<00:19,  2.97it/s]\r 44%|####4     | 44/100 [00:11<00:18,  2.98it/s]\r 45%|####5     | 45/100 [00:12<00:18,  2.97it/s]\r 46%|####6     | 46/100 [00:12<00:14,  3.66it/s]\r 47%|####6     | 47/100 [00:12<00:18,  2.88it/s]\r 48%|####8     | 48/100 [00:13<00:18,  2.84it/s]\r 49%|####9     | 49/100 [00:13<00:15,  3.30it/s]\r 50%|#####     | 50/100 [00:13<00:16,  3.10it/s]\r 51%|#####1    | 51/100 [00:14<00:17,  2.85it/s]\r 52%|#####2    | 52/100 [00:14<00:18,  2.59it/s]\r 53%|#####3    | 53/100 [00:15<00:17,  2.66it/s]\r 54%|#####4    | 54/100 [00:15<00:17,  2.68it/s]\r 55%|#####5    | 55/100 [00:15<00:14,  3.18it/s]\r 56%|#####6    | 56/100 [00:15<00:11,  3.75it/s]\r 57%|#####6    | 57/100 [00:16<00:12,  3.40it/s]\r 58%|#####8    | 58/100 [00:16<00:12,  3.28it/s]\r 59%|#####8    | 59/100 [00:16<00:11,  3.51it/s]\r 60%|######    | 60/100 [00:17<00:12,  3.11it/s]\r 61%|######1   | 61/100 [00:17<00:10,  3.59it/s]\r 62%|######2   | 62/100 [00:17<00:11,  3.28it/s]\r 63%|######3   | 63/100 [00:17<00:09,  3.75it/s]\r 64%|######4   | 64/100 [00:18<00:11,  3.09it/s]\r 65%|######5   | 65/100 [00:18<00:12,  2.71it/s]\r 66%|######6   | 66/100 [00:19<00:12,  2.76it/s]\r 67%|######7   | 67/100 [00:19<00:12,  2.68it/s]\r 68%|######8   | 68/100 [00:19<00:10,  3.03it/s]\r 69%|######9   | 69/100 [00:20<00:11,  2.80it/s]\r 70%|#######   | 70/100 [00:20<00:09,  3.06it/s]\r 71%|#######1  | 71/100 [00:20<00:10,  2.85it/s]\r 72%|#######2  | 72/100 [00:20<00:07,  3.56it/s]\r 74%|#######4  | 74/100 [00:21<00:06,  3.72it/s]\r 75%|#######5  | 75/100 [00:21<00:05,  4.35it/s]\r 76%|#######6  | 76/100 [00:21<00:04,  5.06it/s]\r 77%|#######7  | 77/100 [00:21<00:04,  5.56it/s]\r 78%|#######8  | 78/100 [00:22<00:04,  5.29it/s]\r 79%|#######9  | 79/100 [00:22<00:03,  5.97it/s]\r 80%|########  | 80/100 [00:22<00:04,  4.91it/s]\r 81%|########1 | 81/100 [00:22<00:03,  5.71it/s]\r 82%|########2 | 82/100 [00:22<00:03,  4.61it/s]\r 83%|########2 | 83/100 [00:22<00:03,  5.26it/s]\r 84%|########4 | 84/100 [00:23<00:03,  5.14it/s]\r 85%|########5 | 85/100 [00:23<00:02,  5.87it/s]\r 87%|########7 | 87/100 [00:23<00:02,  6.25it/s]\r 88%|########8 | 88/100 [00:23<00:01,  6.41it/s]\r 89%|########9 | 89/100 [00:23<00:01,  5.75it/s]\r 90%|######### | 90/100 [00:24<00:02,  4.93it/s]\r 91%|#########1| 91/100 [00:24<00:01,  4.66it/s]\r 92%|#########2| 92/100 [00:24<00:01,  4.73it/s]\r 93%|#########3| 93/100 [00:24<00:01,  5.43it/s]\r 94%|#########3| 94/100 [00:25<00:01,  4.03it/s]\r 95%|#########5| 95/100 [00:25<00:01,  3.42it/s]\r 96%|#########6| 96/100 [00:26<00:01,  3.03it/s]\r 97%|#########7| 97/100 [00:26<00:00,  3.27it/s]\r 98%|#########8| 98/100 [00:26<00:00,  3.44it/s]\r 99%|#########9| 99/100 [00:26<00:00,  3.70it/s]\r100%|##########| 100/100 [00:27<00:00,  3.42it/s]\r100%|##########| 100/100 [00:27<00:00,  3.69it/s]\n",
            "/content/drive/MyDrive/learning-tsp-exp1/learning-tsp/eval.py:35: VisibleDeprecationWarning: Creating an ndarray from ragged nested sequences (which is a list-or-tuple of lists-or-tuples-or ndarrays with different lengths or shapes) is deprecated. If you meant to do this, you must specify 'dtype=object' when creating the ndarray\n",
            "  costs, tours, durations = np.array(costs), np.array(tours), np.array(durations)\n",
            "\n"
          ]
        }
      ]
    },
    {
      "cell_type": "code",
      "source": [],
      "metadata": {
        "id": "k5p0AvrdubAr"
      },
      "execution_count": null,
      "outputs": []
    }
  ]
}